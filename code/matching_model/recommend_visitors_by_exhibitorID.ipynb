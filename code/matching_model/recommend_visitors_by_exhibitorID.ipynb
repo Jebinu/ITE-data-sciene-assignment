{
 "cells": [
  {
   "cell_type": "code",
   "execution_count": 1,
   "id": "67620f13-a4e0-4469-88c4-13563212f106",
   "metadata": {},
   "outputs": [],
   "source": [
    "import pandas as pd\n",
    "from sklearn.feature_extraction.text import TfidfVectorizer\n",
    "from sklearn.metrics.pairwise import cosine_similarity\n",
    "\n",
    "# Load the final cleaned CSVs\n",
    "exhibitor_final = pd.read_csv(\"exhibitor_final.csv\")\n",
    "visitors_final = pd.read_csv(\"final_analysis_data_visitors.csv\")\n"
   ]
  },
  {
   "cell_type": "code",
   "execution_count": 11,
   "id": "536d84bd-3a48-44b1-8454-9c0576ab7ce6",
   "metadata": {},
   "outputs": [
    {
     "data": {
      "text/html": [
       "<div>\n",
       "<style scoped>\n",
       "    .dataframe tbody tr th:only-of-type {\n",
       "        vertical-align: middle;\n",
       "    }\n",
       "\n",
       "    .dataframe tbody tr th {\n",
       "        vertical-align: top;\n",
       "    }\n",
       "\n",
       "    .dataframe thead th {\n",
       "        text-align: right;\n",
       "    }\n",
       "</style>\n",
       "<table border=\"1\" class=\"dataframe\">\n",
       "  <thead>\n",
       "    <tr style=\"text-align: right;\">\n",
       "      <th></th>\n",
       "      <th>exhibitorid</th>\n",
       "      <th>Name</th>\n",
       "      <th>categoryId</th>\n",
       "      <th>categoryName</th>\n",
       "    </tr>\n",
       "  </thead>\n",
       "  <tbody>\n",
       "    <tr>\n",
       "      <th>0</th>\n",
       "      <td>90556</td>\n",
       "      <td>Turkey Travels</td>\n",
       "      <td>52276</td>\n",
       "      <td>1.5 Resort hotel</td>\n",
       "    </tr>\n",
       "    <tr>\n",
       "      <th>1</th>\n",
       "      <td>90556</td>\n",
       "      <td>Turkey Travels</td>\n",
       "      <td>52280</td>\n",
       "      <td>2.1 Inbound tour operator</td>\n",
       "    </tr>\n",
       "  </tbody>\n",
       "</table>\n",
       "</div>"
      ],
      "text/plain": [
       "   exhibitorid            Name  categoryId               categoryName\n",
       "0        90556  Turkey Travels       52276           1.5 Resort hotel\n",
       "1        90556  Turkey Travels       52280  2.1 Inbound tour operator"
      ]
     },
     "execution_count": 11,
     "metadata": {},
     "output_type": "execute_result"
    }
   ],
   "source": [
    "exhibitor_final.head(2)"
   ]
  },
  {
   "cell_type": "code",
   "execution_count": 3,
   "id": "d6c9c4c1-37ea-4449-b404-cdf42a98e0c6",
   "metadata": {},
   "outputs": [],
   "source": [
    "# Group exhibitor categories\n",
    "exhibitor_profiles = exhibitor_final.groupby(['exhibitorid', 'Name'])['categoryName'] \\\n",
    "                                    .apply(lambda x: ' '.join(x.astype(str))) \\\n",
    "                                    .reset_index()\n"
   ]
  },
  {
   "cell_type": "code",
   "execution_count": 5,
   "id": "1e2182ac-4d20-42f4-b1c2-4c07ec025cbf",
   "metadata": {},
   "outputs": [],
   "source": [
    "# Group visitor answers\n",
    "visitor_profiles = visitors_final.groupby(['visitor_id', 'email'])['answer'] \\\n",
    "                                 .apply(lambda x: ' '.join(x.dropna().astype(str))) \\\n",
    "                                 .reset_index()\n"
   ]
  },
  {
   "cell_type": "code",
   "execution_count": 7,
   "id": "f4ee6f63-114b-4ab1-973c-05fbbcd6ddd1",
   "metadata": {},
   "outputs": [],
   "source": [
    "def get_exhibitor_category_text_by_id(exhibitor_id):\n",
    "    row = exhibitor_profiles[exhibitor_profiles['exhibitorid'] == exhibitor_id]\n",
    "    if row.empty:\n",
    "        print(\"Exhibitor ID not found.\")\n",
    "        return None\n",
    "    return row['categoryName'].values[0]\n"
   ]
  },
  {
   "cell_type": "code",
   "execution_count": 9,
   "id": "7e9703da-a61f-4da1-bb76-6274b89a31e0",
   "metadata": {},
   "outputs": [],
   "source": [
    "def recommend_visitors(exhibitor_id, top_n=7):\n",
    "    exhibitor_text = get_exhibitor_category_text_by_id(exhibitor_id)\n",
    "    if exhibitor_text is None:\n",
    "        return pd.DataFrame()\n",
    "\n",
    "    corpus = [exhibitor_text] + visitor_profiles['answer'].tolist()\n",
    "\n",
    "    vectorizer = TfidfVectorizer(stop_words='english')\n",
    "    tfidf_matrix = vectorizer.fit_transform(corpus)\n",
    "\n",
    "    similarities = cosine_similarity(tfidf_matrix[0:1], tfidf_matrix[1:]).flatten()\n",
    "    visitor_profiles['similarity_score'] = similarities\n",
    "\n",
    "    return visitor_profiles.sort_values(by='similarity_score', ascending=False).head(top_n)\n"
   ]
  },
  {
   "cell_type": "code",
   "execution_count": 13,
   "id": "e6c2d5a7-2e83-4618-bd12-475aa26317d6",
   "metadata": {},
   "outputs": [
    {
     "data": {
      "text/html": [
       "<div>\n",
       "<style scoped>\n",
       "    .dataframe tbody tr th:only-of-type {\n",
       "        vertical-align: middle;\n",
       "    }\n",
       "\n",
       "    .dataframe tbody tr th {\n",
       "        vertical-align: top;\n",
       "    }\n",
       "\n",
       "    .dataframe thead th {\n",
       "        text-align: right;\n",
       "    }\n",
       "</style>\n",
       "<table border=\"1\" class=\"dataframe\">\n",
       "  <thead>\n",
       "    <tr style=\"text-align: right;\">\n",
       "      <th></th>\n",
       "      <th>visitor_id</th>\n",
       "      <th>email</th>\n",
       "      <th>answer</th>\n",
       "      <th>similarity_score</th>\n",
       "    </tr>\n",
       "  </thead>\n",
       "  <tbody>\n",
       "    <tr>\n",
       "      <th>81</th>\n",
       "      <td>sl0pqtnqavydiqidf8nxzrea</td>\n",
       "      <td>3990147_sens_09hr@gmail.comgmail.com</td>\n",
       "      <td>To source products and services Tour Operator ...</td>\n",
       "      <td>0.393862</td>\n",
       "    </tr>\n",
       "    <tr>\n",
       "      <th>23</th>\n",
       "      <td>67b5e0f7774d9e718c7541db</td>\n",
       "      <td>3990147_sens@gmail.comgmail.com</td>\n",
       "      <td>To source products and services Tour Operator ...</td>\n",
       "      <td>0.393862</td>\n",
       "    </tr>\n",
       "    <tr>\n",
       "      <th>91</th>\n",
       "      <td>wgf8glx8axdaq94290uynav9</td>\n",
       "      <td>3990147_sens_mvzi@gmail.comgmail.com</td>\n",
       "      <td>To source products and services Tour Operator ...</td>\n",
       "      <td>0.393862</td>\n",
       "    </tr>\n",
       "    <tr>\n",
       "      <th>45</th>\n",
       "      <td>bqg1ucjqk14u5av22n0jfhjb</td>\n",
       "      <td>aleksandar.dimkovbss.com.mk</td>\n",
       "      <td>To source products and services Visa support T...</td>\n",
       "      <td>0.262447</td>\n",
       "    </tr>\n",
       "    <tr>\n",
       "      <th>87</th>\n",
       "      <td>unfq2oxirwh1d7iqfgqxwdcd</td>\n",
       "      <td>aleksandar.dimkovbss.com.mk</td>\n",
       "      <td>To source products and services Visa support T...</td>\n",
       "      <td>0.262447</td>\n",
       "    </tr>\n",
       "    <tr>\n",
       "      <th>4</th>\n",
       "      <td>3p80z1iocd67z0qvg8ju1cc0</td>\n",
       "      <td>aleksandar.dimkovbss.com.mk</td>\n",
       "      <td>To source products and services Visa support T...</td>\n",
       "      <td>0.262447</td>\n",
       "    </tr>\n",
       "    <tr>\n",
       "      <th>25</th>\n",
       "      <td>67b5f1392d21f543a10965f1</td>\n",
       "      <td>aleksandar.dimkovbss.com.mk</td>\n",
       "      <td>To source products and services Visa support T...</td>\n",
       "      <td>0.262447</td>\n",
       "    </tr>\n",
       "  </tbody>\n",
       "</table>\n",
       "</div>"
      ],
      "text/plain": [
       "                  visitor_id                                 email  \\\n",
       "81  sl0pqtnqavydiqidf8nxzrea  3990147_sens_09hr@gmail.comgmail.com   \n",
       "23  67b5e0f7774d9e718c7541db       3990147_sens@gmail.comgmail.com   \n",
       "91  wgf8glx8axdaq94290uynav9  3990147_sens_mvzi@gmail.comgmail.com   \n",
       "45  bqg1ucjqk14u5av22n0jfhjb           aleksandar.dimkovbss.com.mk   \n",
       "87  unfq2oxirwh1d7iqfgqxwdcd           aleksandar.dimkovbss.com.mk   \n",
       "4   3p80z1iocd67z0qvg8ju1cc0           aleksandar.dimkovbss.com.mk   \n",
       "25  67b5f1392d21f543a10965f1           aleksandar.dimkovbss.com.mk   \n",
       "\n",
       "                                               answer  similarity_score  \n",
       "81  To source products and services Tour Operator ...          0.393862  \n",
       "23  To source products and services Tour Operator ...          0.393862  \n",
       "91  To source products and services Tour Operator ...          0.393862  \n",
       "45  To source products and services Visa support T...          0.262447  \n",
       "87  To source products and services Visa support T...          0.262447  \n",
       "4   To source products and services Visa support T...          0.262447  \n",
       "25  To source products and services Visa support T...          0.262447  "
      ]
     },
     "execution_count": 13,
     "metadata": {},
     "output_type": "execute_result"
    }
   ],
   "source": [
    "recommend_visitors(90556)  \n"
   ]
  },
  {
   "cell_type": "code",
   "execution_count": null,
   "id": "1b44917f-589d-499b-8d4d-a28f50d62f23",
   "metadata": {},
   "outputs": [],
   "source": []
  }
 ],
 "metadata": {
  "kernelspec": {
   "display_name": "Python [conda env:base] *",
   "language": "python",
   "name": "conda-base-py"
  },
  "language_info": {
   "codemirror_mode": {
    "name": "ipython",
    "version": 3
   },
   "file_extension": ".py",
   "mimetype": "text/x-python",
   "name": "python",
   "nbconvert_exporter": "python",
   "pygments_lexer": "ipython3",
   "version": "3.12.7"
  }
 },
 "nbformat": 4,
 "nbformat_minor": 5
}

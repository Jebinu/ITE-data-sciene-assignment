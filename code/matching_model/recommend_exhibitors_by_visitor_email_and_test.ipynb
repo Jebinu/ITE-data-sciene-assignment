{
 "cells": [
  {
   "cell_type": "code",
   "execution_count": 5,
   "id": "201d0858-9538-4a31-8d84-711e75d3a5e3",
   "metadata": {},
   "outputs": [],
   "source": [
    "import pandas as pd"
   ]
  },
  {
   "cell_type": "code",
   "execution_count": 11,
   "id": "7cc79b2a-c234-46c4-b96c-65302ff6d0f7",
   "metadata": {},
   "outputs": [],
   "source": [
    "exhibitor_final=pd.read_csv(\"exhibitor_final.csv\")\n",
    "visitors_final=pd.read_csv(\"final_analysis_data_visitors.csv\")"
   ]
  },
  {
   "cell_type": "code",
   "execution_count": 13,
   "id": "b90f216d-6d29-4dfd-a596-748595fc76f5",
   "metadata": {},
   "outputs": [
    {
     "name": "stdout",
     "output_type": "stream",
     "text": [
      "Index(['visitor_id', 'email', 'gender', 'question', 'answer', 'answer.1',\n",
      "       'answerType'],\n",
      "      dtype='object')\n",
      "Index(['exhibitorid', 'Name', 'categoryId', 'categoryName'], dtype='object')\n"
     ]
    }
   ],
   "source": [
    "print(visitors_final.columns)\n",
    "print(exhibitor_final.columns)"
   ]
  },
  {
   "cell_type": "code",
   "execution_count": 15,
   "id": "02d012de-7f1f-4ee0-a523-7d1c74c89c1d",
   "metadata": {},
   "outputs": [
    {
     "data": {
      "text/html": [
       "<div>\n",
       "<style scoped>\n",
       "    .dataframe tbody tr th:only-of-type {\n",
       "        vertical-align: middle;\n",
       "    }\n",
       "\n",
       "    .dataframe tbody tr th {\n",
       "        vertical-align: top;\n",
       "    }\n",
       "\n",
       "    .dataframe thead th {\n",
       "        text-align: right;\n",
       "    }\n",
       "</style>\n",
       "<table border=\"1\" class=\"dataframe\">\n",
       "  <thead>\n",
       "    <tr style=\"text-align: right;\">\n",
       "      <th></th>\n",
       "      <th>visitor_id</th>\n",
       "      <th>email</th>\n",
       "      <th>gender</th>\n",
       "      <th>question</th>\n",
       "      <th>answer</th>\n",
       "      <th>answer.1</th>\n",
       "      <th>answerType</th>\n",
       "    </tr>\n",
       "  </thead>\n",
       "  <tbody>\n",
       "    <tr>\n",
       "      <th>0</th>\n",
       "      <td>67b70a9f2d21f543a1096602</td>\n",
       "      <td>emilija@bss.mk</td>\n",
       "      <td>F</td>\n",
       "      <td>Reason for Attending the Event</td>\n",
       "      <td>To obtain general information</td>\n",
       "      <td>To obtain general information</td>\n",
       "      <td>Answer</td>\n",
       "    </tr>\n",
       "    <tr>\n",
       "      <th>1</th>\n",
       "      <td>67b70a9f2d21f543a1096602</td>\n",
       "      <td>emilija@bss.mk</td>\n",
       "      <td>F</td>\n",
       "      <td>Which of the following best describes your job...</td>\n",
       "      <td>Media</td>\n",
       "      <td>Media</td>\n",
       "      <td>Answer</td>\n",
       "    </tr>\n",
       "  </tbody>\n",
       "</table>\n",
       "</div>"
      ],
      "text/plain": [
       "                 visitor_id           email gender  \\\n",
       "0  67b70a9f2d21f543a1096602  emilija@bss.mk      F   \n",
       "1  67b70a9f2d21f543a1096602  emilija@bss.mk      F   \n",
       "\n",
       "                                            question  \\\n",
       "0                     Reason for Attending the Event   \n",
       "1  Which of the following best describes your job...   \n",
       "\n",
       "                          answer                       answer.1 answerType  \n",
       "0  To obtain general information  To obtain general information     Answer  \n",
       "1                          Media                          Media     Answer  "
      ]
     },
     "execution_count": 15,
     "metadata": {},
     "output_type": "execute_result"
    }
   ],
   "source": [
    "visitors_final.head(2)"
   ]
  },
  {
   "cell_type": "code",
   "execution_count": 17,
   "id": "2607acb0-f2b3-45d1-9e0a-e2b3bea73cf8",
   "metadata": {},
   "outputs": [],
   "source": [
    "def get_visitor_answers_by_email(email):\n",
    "    row = visitors_final[visitors_final['email'] == email]\n",
    "    if row.empty:\n",
    "        print(\"Visitor email not found.\")\n",
    "        return None, None\n",
    "\n",
    "    visitor_id = row['visitor_id'].values[0]\n",
    "    answers = visitors_final[visitors_final['visitor_id'] == visitor_id]['answer'].dropna().astype(str).tolist()\n",
    "    return visitor_id, \" \".join(answers)\n"
   ]
  },
  {
   "cell_type": "code",
   "execution_count": 19,
   "id": "5cb1559b-b300-4c14-9c3b-ae427a2878d3",
   "metadata": {},
   "outputs": [],
   "source": [
    "# Group all category names into a single string per exhibitor\n",
    "exhibitor_profiles = exhibitor_final.groupby(['exhibitorid', 'Name'])['categoryName'] \\\n",
    "                                    .apply(lambda x: ' '.join(x.astype(str))) \\\n",
    "                                    .reset_index()\n",
    "\n"
   ]
  },
  {
   "cell_type": "code",
   "execution_count": 35,
   "id": "d3c514e9-ffb7-4a58-b9f0-09c9b034c627",
   "metadata": {},
   "outputs": [],
   "source": [
    "from sklearn.feature_extraction.text import TfidfVectorizer\n",
    "from sklearn.metrics.pairwise import cosine_similarity\n",
    "\n"
   ]
  },
  {
   "cell_type": "code",
   "execution_count": 37,
   "id": "db6335db-b73a-421d-9eec-29ddf3a38dd7",
   "metadata": {},
   "outputs": [],
   "source": [
    "def recommend_exhibitors(visitor_email, top_n=7):\n",
    "    visitor_id, visitor_text = get_visitor_answers_by_email(visitor_email)\n",
    "    if visitor_text is None:\n",
    "        return pd.DataFrame()\n",
    "\n",
    "    corpus = [visitor_text] + exhibitor_profiles['categoryName'].tolist()\n",
    "\n",
    "    vectorizer = TfidfVectorizer(stop_words='english')\n",
    "    tfidf_matrix = vectorizer.fit_transform(corpus)\n",
    "\n",
    "    similarities = cosine_similarity(tfidf_matrix[0:1], tfidf_matrix[1:]).flatten()\n",
    "    exhibitor_profiles['similarity_score'] = similarities\n",
    "\n",
    "    return exhibitor_profiles.sort_values(by='similarity_score', ascending=False).head(top_n)\n",
    "\n"
   ]
  },
  {
   "cell_type": "code",
   "execution_count": 39,
   "id": "a2dbd725-b040-48e1-a78d-a14b039d0887",
   "metadata": {},
   "outputs": [
    {
     "data": {
      "text/html": [
       "<div>\n",
       "<style scoped>\n",
       "    .dataframe tbody tr th:only-of-type {\n",
       "        vertical-align: middle;\n",
       "    }\n",
       "\n",
       "    .dataframe tbody tr th {\n",
       "        vertical-align: top;\n",
       "    }\n",
       "\n",
       "    .dataframe thead th {\n",
       "        text-align: right;\n",
       "    }\n",
       "</style>\n",
       "<table border=\"1\" class=\"dataframe\">\n",
       "  <thead>\n",
       "    <tr style=\"text-align: right;\">\n",
       "      <th></th>\n",
       "      <th>exhibitorid</th>\n",
       "      <th>Name</th>\n",
       "      <th>categoryName</th>\n",
       "      <th>similarity_score</th>\n",
       "    </tr>\n",
       "  </thead>\n",
       "  <tbody>\n",
       "    <tr>\n",
       "      <th>32</th>\n",
       "      <td>97818</td>\n",
       "      <td>Sunny Trips Adventures</td>\n",
       "      <td>3.2 Authorized travel agency 12.1 TIC: Travel ...</td>\n",
       "      <td>0.230892</td>\n",
       "    </tr>\n",
       "    <tr>\n",
       "      <th>8</th>\n",
       "      <td>27827</td>\n",
       "      <td>Exotic Tours Holidays</td>\n",
       "      <td>14.8 Other type of specialized tourism 12.1 TI...</td>\n",
       "      <td>0.187253</td>\n",
       "    </tr>\n",
       "    <tr>\n",
       "      <th>21</th>\n",
       "      <td>74870</td>\n",
       "      <td>Exotic Tours Journeys</td>\n",
       "      <td>6. Motorhomes &amp; caravans 3.3 Independent trave...</td>\n",
       "      <td>0.111944</td>\n",
       "    </tr>\n",
       "    <tr>\n",
       "      <th>20</th>\n",
       "      <td>72153</td>\n",
       "      <td>Elite Adventures Holidays</td>\n",
       "      <td>3.3 Independent travel agency 5.2 Bus services...</td>\n",
       "      <td>0.108708</td>\n",
       "    </tr>\n",
       "    <tr>\n",
       "      <th>17</th>\n",
       "      <td>55311</td>\n",
       "      <td>Sunny Adventures Journeys</td>\n",
       "      <td>15.1 Print media 1.4 Boarding house 5.3 Railwa...</td>\n",
       "      <td>0.084167</td>\n",
       "    </tr>\n",
       "    <tr>\n",
       "      <th>26</th>\n",
       "      <td>92492</td>\n",
       "      <td>Asia Tourism</td>\n",
       "      <td>1.1 Hotel / Hotel chain / Inn 1.5 Resort hotel...</td>\n",
       "      <td>0.071852</td>\n",
       "    </tr>\n",
       "    <tr>\n",
       "      <th>6</th>\n",
       "      <td>18960</td>\n",
       "      <td>Elite Travel Services</td>\n",
       "      <td>10.3 Cultural heritage site 15.1 Print media 1...</td>\n",
       "      <td>0.065562</td>\n",
       "    </tr>\n",
       "  </tbody>\n",
       "</table>\n",
       "</div>"
      ],
      "text/plain": [
       "    exhibitorid                       Name  \\\n",
       "32        97818     Sunny Trips Adventures   \n",
       "8         27827      Exotic Tours Holidays   \n",
       "21        74870      Exotic Tours Journeys   \n",
       "20        72153  Elite Adventures Holidays   \n",
       "17        55311  Sunny Adventures Journeys   \n",
       "26        92492               Asia Tourism   \n",
       "6         18960      Elite Travel Services   \n",
       "\n",
       "                                         categoryName  similarity_score  \n",
       "32  3.2 Authorized travel agency 12.1 TIC: Travel ...          0.230892  \n",
       "8   14.8 Other type of specialized tourism 12.1 TI...          0.187253  \n",
       "21  6. Motorhomes & caravans 3.3 Independent trave...          0.111944  \n",
       "20  3.3 Independent travel agency 5.2 Bus services...          0.108708  \n",
       "17  15.1 Print media 1.4 Boarding house 5.3 Railwa...          0.084167  \n",
       "26  1.1 Hotel / Hotel chain / Inn 1.5 Resort hotel...          0.071852  \n",
       "6   10.3 Cultural heritage site 15.1 Print media 1...          0.065562  "
      ]
     },
     "execution_count": 39,
     "metadata": {},
     "output_type": "execute_result"
    }
   ],
   "source": [
    "# Example\n",
    "recommend_exhibitors(\"emilija@bss.mk\")\n"
   ]
  },
  {
   "cell_type": "code",
   "execution_count": 43,
   "id": "748dab20-d247-4a2d-b269-244ea9d0f49e",
   "metadata": {},
   "outputs": [
    {
     "name": "stdout",
     "output_type": "stream",
     "text": [
      "Starting test for: recommend_exhibitors_by_visitor_email\n",
      "✅ Test passed for recommend_exhibitors_by_visitor_email\n",
      "\n"
     ]
    }
   ],
   "source": [
    "# Running test for the recommendation function based on visitor email\n",
    "print(\"Starting test for: recommend_exhibitors_by_visitor_email\")\n",
    "\n",
    "# Sample visitor email taken from the dataset\n",
    "sample_email = visitors_final['email'].dropna().iloc[0]\n",
    "\n",
    "# Get recommendations for exhibitors using the sample visitor email\n",
    "recommendations_email = recommend_exhibitors(sample_email, top_n=5)\n",
    "\n",
    "# Ensure that recommendations are returned and not empty\n",
    "assert not recommendations_email.empty, \"❌ No recommendations returned for a valid visitor email\"\n",
    "\n",
    "# Check if the 'similarity_score' column exists in the returned recommendations\n",
    "assert 'similarity_score' in recommendations_email.columns, \"❌ 'similarity_score' column is missing in the recommendations\"\n",
    "\n",
    "# If all checks pass, print a success message\n",
    "print(\"✅ Test passed for recommend_exhibitors_by_visitor_email\\n\")\n"
   ]
  },
  {
   "cell_type": "code",
   "execution_count": null,
   "id": "6c63d463-8454-4c7e-836b-7c2c57d63052",
   "metadata": {},
   "outputs": [],
   "source": []
  }
 ],
 "metadata": {
  "kernelspec": {
   "display_name": "Python [conda env:base] *",
   "language": "python",
   "name": "conda-base-py"
  },
  "language_info": {
   "codemirror_mode": {
    "name": "ipython",
    "version": 3
   },
   "file_extension": ".py",
   "mimetype": "text/x-python",
   "name": "python",
   "nbconvert_exporter": "python",
   "pygments_lexer": "ipython3",
   "version": "3.12.7"
  }
 },
 "nbformat": 4,
 "nbformat_minor": 5
}

{
 "cells": [
  {
   "cell_type": "markdown",
   "id": "f12b0cb6-488b-40af-ae10-93bd469c91e5",
   "metadata": {},
   "source": [
    "# Data Cleaning_ Exhibitor profile"
   ]
  },
  {
   "cell_type": "code",
   "execution_count": 1,
   "id": "a9a0689c-d6d1-465f-83ff-3a26dddbb130",
   "metadata": {},
   "outputs": [],
   "source": [
    "import pandas as pd\n"
   ]
  },
  {
   "cell_type": "code",
   "execution_count": 3,
   "id": "0305ba28-87da-4c95-8d88-7be39cac45a5",
   "metadata": {},
   "outputs": [],
   "source": [
    "#datasets\n",
    "exhibitor_categories = pd.read_csv(\"../source/exhibitor_categories.csv\")\n",
    "exhibitors = pd.read_csv(\"../source/exhibitors.csv\")\n",
    "\n"
   ]
  },
  {
   "cell_type": "code",
   "execution_count": 92,
   "id": "447ba73f-d5bc-4b94-b445-6d7b8f11ebc0",
   "metadata": {},
   "outputs": [
    {
     "data": {
      "text/html": [
       "<div>\n",
       "<style scoped>\n",
       "    .dataframe tbody tr th:only-of-type {\n",
       "        vertical-align: middle;\n",
       "    }\n",
       "\n",
       "    .dataframe tbody tr th {\n",
       "        vertical-align: top;\n",
       "    }\n",
       "\n",
       "    .dataframe thead th {\n",
       "        text-align: right;\n",
       "    }\n",
       "</style>\n",
       "<table border=\"1\" class=\"dataframe\">\n",
       "  <thead>\n",
       "    <tr style=\"text-align: right;\">\n",
       "      <th></th>\n",
       "      <th>categoryId</th>\n",
       "      <th>categoryName</th>\n",
       "    </tr>\n",
       "  </thead>\n",
       "  <tbody>\n",
       "    <tr>\n",
       "      <th>0</th>\n",
       "      <td>52271</td>\n",
       "      <td>1. Accomodation providers</td>\n",
       "    </tr>\n",
       "    <tr>\n",
       "      <th>1</th>\n",
       "      <td>52272</td>\n",
       "      <td>1.1 Hotel / Hotel chain / Inn</td>\n",
       "    </tr>\n",
       "    <tr>\n",
       "      <th>2</th>\n",
       "      <td>52273</td>\n",
       "      <td>1.2 Apartments / Residential hotel</td>\n",
       "    </tr>\n",
       "    <tr>\n",
       "      <th>3</th>\n",
       "      <td>52274</td>\n",
       "      <td>1.3 Hostel / Motel</td>\n",
       "    </tr>\n",
       "    <tr>\n",
       "      <th>4</th>\n",
       "      <td>52275</td>\n",
       "      <td>1.4 Boarding house</td>\n",
       "    </tr>\n",
       "  </tbody>\n",
       "</table>\n",
       "</div>"
      ],
      "text/plain": [
       "   categoryId                        categoryName\n",
       "0       52271           1. Accomodation providers\n",
       "1       52272       1.1 Hotel / Hotel chain / Inn\n",
       "2       52273  1.2 Apartments / Residential hotel\n",
       "3       52274                  1.3 Hostel / Motel\n",
       "4       52275                  1.4 Boarding house"
      ]
     },
     "execution_count": 92,
     "metadata": {},
     "output_type": "execute_result"
    }
   ],
   "source": [
    "exhibitor_categories.head()\n"
   ]
  },
  {
   "cell_type": "code",
   "execution_count": 94,
   "id": "f99078e2-a495-4423-a750-1b5de11efba6",
   "metadata": {},
   "outputs": [
    {
     "data": {
      "text/html": [
       "<div>\n",
       "<style scoped>\n",
       "    .dataframe tbody tr th:only-of-type {\n",
       "        vertical-align: middle;\n",
       "    }\n",
       "\n",
       "    .dataframe tbody tr th {\n",
       "        vertical-align: top;\n",
       "    }\n",
       "\n",
       "    .dataframe thead th {\n",
       "        text-align: right;\n",
       "    }\n",
       "</style>\n",
       "<table border=\"1\" class=\"dataframe\">\n",
       "  <thead>\n",
       "    <tr style=\"text-align: right;\">\n",
       "      <th></th>\n",
       "      <th>exhibitorid</th>\n",
       "      <th>Name</th>\n",
       "      <th>MainCategories</th>\n",
       "    </tr>\n",
       "  </thead>\n",
       "  <tbody>\n",
       "    <tr>\n",
       "      <th>0</th>\n",
       "      <td>90556</td>\n",
       "      <td>Turkey Travels</td>\n",
       "      <td>52276|52280|52281</td>\n",
       "    </tr>\n",
       "    <tr>\n",
       "      <th>1</th>\n",
       "      <td>92462</td>\n",
       "      <td>Russian Travel Company</td>\n",
       "      <td>52273|52283|52289|52291|52298|52302</td>\n",
       "    </tr>\n",
       "    <tr>\n",
       "      <th>2</th>\n",
       "      <td>92491</td>\n",
       "      <td>Indian Travel Company</td>\n",
       "      <td>52273|52274|52281</td>\n",
       "    </tr>\n",
       "    <tr>\n",
       "      <th>3</th>\n",
       "      <td>92492</td>\n",
       "      <td>Asia Tourism</td>\n",
       "      <td>52272|52276|52352|52358</td>\n",
       "    </tr>\n",
       "    <tr>\n",
       "      <th>4</th>\n",
       "      <td>92493</td>\n",
       "      <td>SriLanka Adventures</td>\n",
       "      <td>52296|52327|52352</td>\n",
       "    </tr>\n",
       "  </tbody>\n",
       "</table>\n",
       "</div>"
      ],
      "text/plain": [
       "   exhibitorid                    Name                       MainCategories\n",
       "0        90556          Turkey Travels                    52276|52280|52281\n",
       "1        92462  Russian Travel Company  52273|52283|52289|52291|52298|52302\n",
       "2        92491   Indian Travel Company                    52273|52274|52281\n",
       "3        92492            Asia Tourism              52272|52276|52352|52358\n",
       "4        92493     SriLanka Adventures                    52296|52327|52352"
      ]
     },
     "execution_count": 94,
     "metadata": {},
     "output_type": "execute_result"
    }
   ],
   "source": [
    "exhibitors.head()"
   ]
  },
  {
   "cell_type": "code",
   "execution_count": 96,
   "id": "ac0976f6-c8a6-4617-9a04-e9174c1e7440",
   "metadata": {},
   "outputs": [
    {
     "data": {
      "text/plain": [
       "0"
      ]
     },
     "execution_count": 96,
     "metadata": {},
     "output_type": "execute_result"
    }
   ],
   "source": [
    "# Check for missing or duplicate values\n",
    "exhibitor_categories.isnull().sum()\n",
    "exhibitor_categories.duplicated().sum()\n"
   ]
  },
  {
   "cell_type": "code",
   "execution_count": 98,
   "id": "8b8b7b8c-a55e-4010-968a-04f054f2825b",
   "metadata": {},
   "outputs": [],
   "source": [
    "exhibitor_categories['categoryName'] = exhibitor_categories['categoryName'].str.strip()\n"
   ]
  },
  {
   "cell_type": "code",
   "execution_count": 100,
   "id": "0f2378d3-064e-46fd-a121-c5b4549501b0",
   "metadata": {},
   "outputs": [],
   "source": [
    "# Step 1: Split the pipe-separated string into lists\n",
    "exhibitors['MainCategories'] = exhibitors['MainCategories'].str.split('|')\n",
    "\n",
    "# Step 2: Explode the list into multiple rows\n",
    "exhibitor_cleaned = exhibitors.explode('MainCategories')\n",
    "\n",
    "# Step 3: Convert category IDs to integers for safe merging\n",
    "exhibitor_cleaned['MainCategories'] = exhibitor_cleaned['MainCategories'].astype(int)\n"
   ]
  },
  {
   "cell_type": "code",
   "execution_count": 102,
   "id": "a5f7bf33-46aa-40ad-91e2-32899fb8994c",
   "metadata": {},
   "outputs": [
    {
     "data": {
      "text/html": [
       "<div>\n",
       "<style scoped>\n",
       "    .dataframe tbody tr th:only-of-type {\n",
       "        vertical-align: middle;\n",
       "    }\n",
       "\n",
       "    .dataframe tbody tr th {\n",
       "        vertical-align: top;\n",
       "    }\n",
       "\n",
       "    .dataframe thead th {\n",
       "        text-align: right;\n",
       "    }\n",
       "</style>\n",
       "<table border=\"1\" class=\"dataframe\">\n",
       "  <thead>\n",
       "    <tr style=\"text-align: right;\">\n",
       "      <th></th>\n",
       "      <th>exhibitorid</th>\n",
       "      <th>Name</th>\n",
       "      <th>MainCategories</th>\n",
       "    </tr>\n",
       "  </thead>\n",
       "  <tbody>\n",
       "    <tr>\n",
       "      <th>0</th>\n",
       "      <td>90556</td>\n",
       "      <td>Turkey Travels</td>\n",
       "      <td>52276</td>\n",
       "    </tr>\n",
       "    <tr>\n",
       "      <th>0</th>\n",
       "      <td>90556</td>\n",
       "      <td>Turkey Travels</td>\n",
       "      <td>52280</td>\n",
       "    </tr>\n",
       "  </tbody>\n",
       "</table>\n",
       "</div>"
      ],
      "text/plain": [
       "   exhibitorid            Name  MainCategories\n",
       "0        90556  Turkey Travels           52276\n",
       "0        90556  Turkey Travels           52280"
      ]
     },
     "execution_count": 102,
     "metadata": {},
     "output_type": "execute_result"
    }
   ],
   "source": [
    "exhibitor_cleaned.head(2)"
   ]
  },
  {
   "cell_type": "code",
   "execution_count": 104,
   "id": "1435f53e-2f93-45e5-8ede-a143f7f13ec8",
   "metadata": {},
   "outputs": [],
   "source": [
    "exhibitor_with_categories = exhibitor_cleaned.merge(\n",
    "    exhibitor_categories,\n",
    "    left_on='MainCategories',\n",
    "    right_on='categoryId',\n",
    "    how='left'\n",
    ")\n"
   ]
  },
  {
   "cell_type": "code",
   "execution_count": 106,
   "id": "9d4caac7-6c3f-43bb-90bf-bd8ed7292ccf",
   "metadata": {},
   "outputs": [],
   "source": [
    "exhibitor_final = exhibitor_with_categories[[\n",
    "    'exhibitorid', 'Name', 'MainCategories', 'categoryName'\n",
    "]].rename(columns={\n",
    "    'MainCategories': 'categoryId'\n",
    "})\n"
   ]
  },
  {
   "cell_type": "code",
   "execution_count": 108,
   "id": "3456a09b-9a98-4041-b14e-f6f3bc323f50",
   "metadata": {},
   "outputs": [
    {
     "data": {
      "text/html": [
       "<div>\n",
       "<style scoped>\n",
       "    .dataframe tbody tr th:only-of-type {\n",
       "        vertical-align: middle;\n",
       "    }\n",
       "\n",
       "    .dataframe tbody tr th {\n",
       "        vertical-align: top;\n",
       "    }\n",
       "\n",
       "    .dataframe thead th {\n",
       "        text-align: right;\n",
       "    }\n",
       "</style>\n",
       "<table border=\"1\" class=\"dataframe\">\n",
       "  <thead>\n",
       "    <tr style=\"text-align: right;\">\n",
       "      <th></th>\n",
       "      <th>exhibitorid</th>\n",
       "      <th>Name</th>\n",
       "      <th>categoryId</th>\n",
       "      <th>categoryName</th>\n",
       "    </tr>\n",
       "  </thead>\n",
       "  <tbody>\n",
       "    <tr>\n",
       "      <th>0</th>\n",
       "      <td>90556</td>\n",
       "      <td>Turkey Travels</td>\n",
       "      <td>52276</td>\n",
       "      <td>1.5 Resort hotel</td>\n",
       "    </tr>\n",
       "    <tr>\n",
       "      <th>1</th>\n",
       "      <td>90556</td>\n",
       "      <td>Turkey Travels</td>\n",
       "      <td>52280</td>\n",
       "      <td>2.1 Inbound tour operator</td>\n",
       "    </tr>\n",
       "    <tr>\n",
       "      <th>2</th>\n",
       "      <td>90556</td>\n",
       "      <td>Turkey Travels</td>\n",
       "      <td>52281</td>\n",
       "      <td>2.2 Outbound tour operator</td>\n",
       "    </tr>\n",
       "    <tr>\n",
       "      <th>3</th>\n",
       "      <td>92462</td>\n",
       "      <td>Russian Travel Company</td>\n",
       "      <td>52273</td>\n",
       "      <td>1.2 Apartments / Residential hotel</td>\n",
       "    </tr>\n",
       "    <tr>\n",
       "      <th>4</th>\n",
       "      <td>92462</td>\n",
       "      <td>Russian Travel Company</td>\n",
       "      <td>52283</td>\n",
       "      <td>2.4 Mass market tour operators</td>\n",
       "    </tr>\n",
       "  </tbody>\n",
       "</table>\n",
       "</div>"
      ],
      "text/plain": [
       "   exhibitorid                    Name  categoryId  \\\n",
       "0        90556          Turkey Travels       52276   \n",
       "1        90556          Turkey Travels       52280   \n",
       "2        90556          Turkey Travels       52281   \n",
       "3        92462  Russian Travel Company       52273   \n",
       "4        92462  Russian Travel Company       52283   \n",
       "\n",
       "                         categoryName  \n",
       "0                    1.5 Resort hotel  \n",
       "1           2.1 Inbound tour operator  \n",
       "2          2.2 Outbound tour operator  \n",
       "3  1.2 Apartments / Residential hotel  \n",
       "4      2.4 Mass market tour operators  "
      ]
     },
     "execution_count": 108,
     "metadata": {},
     "output_type": "execute_result"
    }
   ],
   "source": [
    "exhibitor_final.head()"
   ]
  },
  {
   "cell_type": "code",
   "execution_count": 110,
   "id": "d4fc9ab2-2778-44f5-af9b-9d5d52ce121e",
   "metadata": {},
   "outputs": [],
   "source": [
    "exhibitor_final.to_csv(\"exhibitor_final.csv\", index=False)\n"
   ]
  },
  {
   "cell_type": "code",
   "execution_count": 112,
   "id": "a1c871f4-def8-4459-8d6c-18fbfc664449",
   "metadata": {},
   "outputs": [
    {
     "data": {
      "text/plain": [
       "(183, 4)"
      ]
     },
     "execution_count": 112,
     "metadata": {},
     "output_type": "execute_result"
    }
   ],
   "source": [
    "exhibitor_final.shape"
   ]
  },
  {
   "cell_type": "code",
   "execution_count": null,
   "id": "63884b66-8864-48f6-b51b-65a365d3738d",
   "metadata": {},
   "outputs": [],
   "source": []
  }
 ],
 "metadata": {
  "kernelspec": {
   "display_name": "Python [conda env:base] *",
   "language": "python",
   "name": "conda-base-py"
  },
  "language_info": {
   "codemirror_mode": {
    "name": "ipython",
    "version": 3
   },
   "file_extension": ".py",
   "mimetype": "text/x-python",
   "name": "python",
   "nbconvert_exporter": "python",
   "pygments_lexer": "ipython3",
   "version": "3.12.7"
  }
 },
 "nbformat": 4,
 "nbformat_minor": 5
}
